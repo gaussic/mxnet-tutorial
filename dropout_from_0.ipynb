{
 "cells": [
  {
   "cell_type": "code",
   "execution_count": 1,
   "metadata": {
    "collapsed": true
   },
   "outputs": [],
   "source": [
    "from mxnet import nd"
   ]
  },
  {
   "cell_type": "code",
   "execution_count": 66,
   "metadata": {
    "collapsed": true
   },
   "outputs": [],
   "source": [
    "def dropout(X, dropout_probability):\n",
    "    keep_probability = 1 - dropout_probability\n",
    "    assert 0 <= keep_probability <= 1\n",
    "    \n",
    "    if keep_probability == 0:\n",
    "        return X.zeros_like()\n",
    "    \n",
    "    mask = nd.random.uniform(0, 1.0, X.shape, ctx=X.context) < keep_probability\n",
    "    scale = 1 / keep_probability\n",
    "    return mask * X * scale"
   ]
  },
  {
   "cell_type": "code",
   "execution_count": 82,
   "metadata": {},
   "outputs": [
    {
     "data": {
      "text/plain": [
       "\n",
       "[[  0.   2.   4.   6.]\n",
       " [  0.  10.  12.  14.]\n",
       " [ 16.   0.   0.   0.]\n",
       " [ 24.   0.  28.   0.]\n",
       " [  0.   0.  36.   0.]]\n",
       "<NDArray 5x4 @cpu(0)>"
      ]
     },
     "execution_count": 82,
     "metadata": {},
     "output_type": "execute_result"
    }
   ],
   "source": [
    "A = nd.arange(20).reshape((5, 4))\n",
    "dropout(A, 0.5)"
   ]
  },
  {
   "cell_type": "code",
   "execution_count": 83,
   "metadata": {
    "collapsed": true
   },
   "outputs": [],
   "source": [
    "import sys\n",
    "sys.path.append('..')\n",
    "import utils\n",
    "batch_size = 256\n",
    "train_data, test_data = utils.load_data_fashion_mnist(batch_size)"
   ]
  },
  {
   "cell_type": "code",
   "execution_count": 84,
   "metadata": {
    "collapsed": true
   },
   "outputs": [],
   "source": [
    "num_inputs = 28*28\n",
    "num_outputs = 10\n",
    "\n",
    "num_hidden1 = 256\n",
    "num_hidden2 = 256\n",
    "weight_scale = .01\n",
    "\n",
    "W1 = nd.random_normal(shape=(num_inputs, num_hidden1), scale=weight_scale)\n",
    "b1 = nd.zeros(num_hidden1)\n",
    "\n",
    "W2 = nd.random_normal(shape=(num_hidden1, num_hidden2), scale=weight_scale)\n",
    "b2 = nd.zeros(num_hidden2)\n",
    "\n",
    "W3 = nd.random_normal(shape=(num_hidden2, num_outputs), scale=weight_scale)\n",
    "b3 = nd.zeros(num_outputs)\n",
    "\n",
    "params = [W1, b1, W2, b2, W3, b3]\n",
    "\n",
    "for param in params:\n",
    "    param.attach_grad()"
   ]
  },
  {
   "cell_type": "code",
   "execution_count": 85,
   "metadata": {
    "collapsed": true
   },
   "outputs": [],
   "source": [
    "drop_prob1 = 0.2\n",
    "drop_prob2 = 0.5\n",
    "\n",
    "def net(X):\n",
    "    X = X.reshape((-1, num_inputs))\n",
    "    h1 = nd.relu(nd.dot(X, W1) + b1)\n",
    "    h1 = dropout(h1, drop_prob1)\n",
    "    h2 = nd.relu(nd.dot(h1, W2) + b2)\n",
    "    h2 = dropout(h2, drop_prob2)\n",
    "    return nd.dot(h2, W3) + b3"
   ]
  },
  {
   "cell_type": "code",
   "execution_count": 86,
   "metadata": {
    "collapsed": true
   },
   "outputs": [],
   "source": [
    "from mxnet import autograd\n",
    "from mxnet import gluon"
   ]
  },
  {
   "cell_type": "code",
   "execution_count": 87,
   "metadata": {
    "collapsed": true
   },
   "outputs": [],
   "source": [
    "softmax_cross_entropy = gluon.loss.SoftmaxCrossEntropyLoss()"
   ]
  },
  {
   "cell_type": "code",
   "execution_count": 89,
   "metadata": {},
   "outputs": [
    {
     "name": "stdout",
     "output_type": "stream",
     "text": [
      "Epoch 0. Loss: 1.154143, Train acc 0.548377, Test acc 0.721054\n",
      "Epoch 1. Loss: 0.594300, Train acc 0.778279, Test acc 0.825220\n",
      "Epoch 2. Loss: 0.497697, Train acc 0.817324, Test acc 0.827524\n",
      "Epoch 3. Loss: 0.451331, Train acc 0.834452, Test acc 0.834936\n",
      "Epoch 4. Loss: 0.424886, Train acc 0.843900, Test acc 0.855869\n"
     ]
    }
   ],
   "source": [
    "learning_rate = .5\n",
    "\n",
    "for epoch in range(5):\n",
    "    train_loss = 0.\n",
    "    train_acc = 0.\n",
    "    for data, label in train_data:\n",
    "        with autograd.record():\n",
    "            output = net(data)\n",
    "            loss = softmax_cross_entropy(output, label)\n",
    "        loss.backward()\n",
    "        utils.SGD(params, learning_rate/batch_size)\n",
    "\n",
    "        train_loss += nd.mean(loss).asscalar()\n",
    "        train_acc += utils.accuracy(output, label)\n",
    "\n",
    "    test_acc = utils.evaluate_accuracy(test_data, net)\n",
    "    print(\"Epoch %d. Loss: %f, Train acc %f, Test acc %f\" % (\n",
    "        epoch, train_loss/len(train_data),\n",
    "        train_acc/len(train_data), test_acc))"
   ]
  },
  {
   "cell_type": "code",
   "execution_count": null,
   "metadata": {
    "collapsed": true
   },
   "outputs": [],
   "source": []
  }
 ],
 "metadata": {
  "kernelspec": {
   "display_name": "tensorflow",
   "language": "python",
   "name": "tensorflow"
  },
  "language_info": {
   "codemirror_mode": {
    "name": "ipython",
    "version": 3
   },
   "file_extension": ".py",
   "mimetype": "text/x-python",
   "name": "python",
   "nbconvert_exporter": "python",
   "pygments_lexer": "ipython3",
   "version": "3.5.3"
  }
 },
 "nbformat": 4,
 "nbformat_minor": 2
}
